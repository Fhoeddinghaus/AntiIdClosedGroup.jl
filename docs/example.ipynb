{
 "cells": [
  {
   "cell_type": "markdown",
   "metadata": {},
   "source": [
    "# Example Usage of the package AntiIdClosedGroup\n",
    "\n",
    "This package directly depends on\n",
    "- [ClosedGroupFunctions.jl](https://github.com/fhoeddinghaus/ClosedGroupFunctions.jl.git)\n",
    "- [Zd_Arithmetics.jl](https://github.com/fhoeddinghaus/Zd_Arithmetics.jl.git)"
   ]
  },
  {
   "cell_type": "markdown",
   "metadata": {},
   "source": [
    "## Install the Package\n",
    "\n",
    "    ] add git@github.com:Fhoeddinghaus/AntiIdClosedGroup.jl.git\n",
    "\n",
    "or\n",
    "\n",
    "    ] add https://github.com/Fhoeddinghaus/AntiIdClosedGroup.jl.git"
   ]
  },
  {
   "cell_type": "markdown",
   "metadata": {},
   "source": [
    "## Load the Package"
   ]
  },
  {
   "cell_type": "code",
   "execution_count": 1,
   "metadata": {},
   "outputs": [
    {
     "name": "stderr",
     "output_type": "stream",
     "text": [
      "┌ Info: Precompiling AntiIdClosedGroup [top-level]\n",
      "└ @ Base loading.jl:1317\n"
     ]
    }
   ],
   "source": [
    "using ClosedGroupFunctions\n",
    "using Zd_Arithmetics\n",
    "\n",
    "import Zd_Arithmetics: ℤ₂\n",
    "\n",
    "push!(LOAD_PATH,\"../src/\") # for developement, load the local package\n",
    "using AntiIdClosedGroup"
   ]
  },
  {
   "cell_type": "markdown",
   "metadata": {},
   "source": [
    "## Generating the group\n",
    "\n",
    "### Defining the parameters"
   ]
  },
  {
   "cell_type": "code",
   "execution_count": 2,
   "metadata": {},
   "outputs": [
    {
     "data": {
      "text/plain": [
       "4"
      ]
     },
     "execution_count": 2,
     "metadata": {},
     "output_type": "execute_result"
    }
   ],
   "source": [
    "n = 5 # size of the outer matrix\n",
    "k = 4 # size of the anti-identity sub-block"
   ]
  },
  {
   "cell_type": "markdown",
   "metadata": {},
   "source": [
    "### The standard generators\n"
   ]
  },
  {
   "cell_type": "code",
   "execution_count": 3,
   "metadata": {},
   "outputs": [
    {
     "name": "stdout",
     "output_type": "stream",
     "text": [
      "There are Ω = (5 choose 4) = 5  possible basic permutations.\n"
     ]
    }
   ],
   "source": [
    "Ω, all_pos, all_generators = construct_generators(n,k);"
   ]
  },
  {
   "cell_type": "markdown",
   "metadata": {},
   "source": [
    "#### Outputting the generators as LaTeX\n",
    "\n",
    "The generators can be converted to LaTeX-code if needed using\n",
    "\n",
    "    po2matrix(...)\n",
    "or\n",
    "\n",
    "    all_pos2matrix(...)\n",
    "\n",
    "(See [documentation](https://fhoeddinghaus.github.io/AntiIdClosedGroup.jl/).)"
   ]
  },
  {
   "cell_type": "markdown",
   "metadata": {},
   "source": [
    "### Generating the groups using the `ClosedGroupFunctions.jl`-Package"
   ]
  },
  {
   "cell_type": "code",
   "execution_count": 74,
   "metadata": {},
   "outputs": [
    {
     "name": "stdout",
     "output_type": "stream",
     "text": [
      "level #1 size 5 and 21 new elements (25 multiplications)\n",
      "level #2 size 26 and 240 new elements (651 multiplications)\n",
      "level #3 size 266 and 454 new elements (70080 multiplications)\n",
      "level #4 size 720 and 0 new elements (447644 multiplications)\n",
      "\n",
      "Ended after 4 iterations. \n",
      "The resulting group has 720 elements.\n"
     ]
    }
   ],
   "source": [
    "group, num_all_multiplications = group_generator_basic(all_generators; prnt=false, commutes=false);"
   ]
  },
  {
   "cell_type": "markdown",
   "metadata": {},
   "source": [
    "It's not necessary to use the generators, as the `group_generator_basic` takes all kind of elements. Someone may try smaller sets of generators, as seen below (permutations).\n",
    "\n",
    "It's advised to save the calculated group to disk for later use by using `ClosedGroupFunctions.jl`'s `store_group(...)` and `load_group(...)` functions."
   ]
  },
  {
   "cell_type": "code",
   "execution_count": 76,
   "metadata": {},
   "outputs": [],
   "source": [
    "# store the group to disk\n",
    "store_group(\"n$n\" * \"k$k\", group)"
   ]
  },
  {
   "cell_type": "code",
   "execution_count": 87,
   "metadata": {},
   "outputs": [
    {
     "data": {
      "text/plain": [
       "720"
      ]
     },
     "execution_count": 87,
     "metadata": {},
     "output_type": "execute_result"
    }
   ],
   "source": [
    "# load the group from disk\n",
    "group = load_group(\"n$n\" * \"k$k\");"
   ]
  },
  {
   "cell_type": "markdown",
   "metadata": {},
   "source": [
    "#### Labelling the group"
   ]
  },
  {
   "cell_type": "code",
   "execution_count": 96,
   "metadata": {},
   "outputs": [
    {
     "name": "stdout",
     "output_type": "stream",
     "text": [
      "level #1 size 5 and 21 new elements (25 multiplications)\n",
      "level #2 size 26 and 240 new elements (651 multiplications)\n",
      "level #3 size 266 and 454 new elements (70080 multiplications)\n",
      "level #4 size 720 and 0 new elements (447644 multiplications)\n",
      "\n",
      "Ended after 4 iterations. \n",
      "The resulting group has 720 elements.\n"
     ]
    }
   ],
   "source": [
    "# label the generators\n",
    "all_generators_labelled = label_generators(all_generators);\n",
    "\n",
    "# label the group with the fast method\n",
    "#number_of_elements = length(group)\n",
    "#labelled_group = labelled_group_generator_simple(all_generators_labelled, number_of_elements; commutes=false);\n",
    "\n",
    "# or label the group with the shortest possible label (slower method)\n",
    "labelled_group = labelled_group_generator_shortest(all_generators_labelled; prnt=false, commutes=false)[1];"
   ]
  },
  {
   "cell_type": "markdown",
   "metadata": {},
   "source": [
    "## Investigation and Analysis\n",
    "\n",
    "We now want to investigate the group and it's generators further.\n",
    "\n",
    "### Permutations\n",
    "\n",
    "To investigate the group/generators under permutations, we first have to label the elements like above and then calculate all possible permutations."
   ]
  },
  {
   "cell_type": "code",
   "execution_count": 81,
   "metadata": {},
   "outputs": [],
   "source": [
    "all_generators_labelled = label_generators(all_generators);"
   ]
  },
  {
   "cell_type": "code",
   "execution_count": 82,
   "metadata": {},
   "outputs": [],
   "source": [
    "# all permutations of [1, 2, 3, 4, 5, 6, 7] can be found with Combinatorics.jl\n",
    "# either by\n",
    "# using Combinatorics\n",
    "# collect(permutations(1:n))\n",
    "# or without importing (AntiIdClosedGroup depends directly on Combinatorics.jl)\n",
    "all_permutations = collect(AntiIdClosedGroup.permutations(1:n));"
   ]
  },
  {
   "cell_type": "markdown",
   "metadata": {},
   "source": [
    "Now we can apply the permutations (or a some of them) to the labelled generators by using the following function. The output is redirected and **appended** into a file with a given prefix (`\"permutation_cycles_\"`) and the identifier (`\"tmp_1\"`), because it's quite long."
   ]
  },
  {
   "cell_type": "code",
   "execution_count": 84,
   "metadata": {},
   "outputs": [],
   "source": [
    "print_permutation_cycles(all_generators_labelled, all_permutations, \"n$n\" * \"k$k\")"
   ]
  },
  {
   "cell_type": "markdown",
   "metadata": {},
   "source": [
    "After some analysis of the file, we find a list of permutations, that can construct the other generators from each other. In the file, `p[i]` corresponds to the `i`th permutation in the entered list, `all_permutations`."
   ]
  },
  {
   "cell_type": "code",
   "execution_count": 35,
   "metadata": {},
   "outputs": [],
   "source": [
    "# in this case, only one permutation is needed to calculate all other generators from one of them.\n",
    "selected_permutations = [97] \n",
    "ps = all_permutations[selected_permutations]\n",
    "\n",
    "Pₛ = [perm_rows(id(n), ps[i]) for i in 1:length(ps)]\n",
    "Qₛ = [perm_cols(id(n), ps[i]) for i in 1:length(ps)] # Q = P_inv\n",
    "\n",
    "# new set of generators\n",
    "a = all_generators[1]\n",
    "new_generators = [a, Pₛ..., Qₛ...];"
   ]
  },
  {
   "cell_type": "code",
   "execution_count": null,
   "metadata": {},
   "outputs": [],
   "source": [
    "# calculate the group with the new generators"
   ]
  },
  {
   "cell_type": "code",
   "execution_count": 36,
   "metadata": {},
   "outputs": [
    {
     "name": "stdout",
     "output_type": "stream",
     "text": [
      "level #1 size 3 and 7 new elements (9 multiplications)\n",
      "level #2 size 10 and 28 new elements (91 multiplications)\n",
      "level #3 size 38 and 296 new elements (1344 multiplications)\n",
      "level #4 size 334 and 386 new elements (110112 multiplications)\n",
      "level #5 size 720 and 0 new elements (406844 multiplications)\n",
      "\n",
      "Ended after 5 iterations. \n",
      "The resulting group has 720 elements.\n"
     ]
    }
   ],
   "source": [
    "group_with_perms, num_all_multiplications_with_perms = group_generator_basic(new_generators; prnt=false, commutes=false);"
   ]
  },
  {
   "cell_type": "code",
   "execution_count": 42,
   "metadata": {},
   "outputs": [
    {
     "data": {
      "text/plain": [
       "true"
      ]
     },
     "execution_count": 42,
     "metadata": {},
     "output_type": "execute_result"
    }
   ],
   "source": [
    "# As explained in the thesis results, the group stays the same under permutations, \n",
    "# because all possible permutations are already part of the group.\n",
    "# This is therefore a method to possibly find a smaller set of generators.\n",
    "group == group_with_perms"
   ]
  },
  {
   "cell_type": "markdown",
   "metadata": {},
   "source": [
    "### Invariants and Conjugacy Classes\n",
    "\n",
    "#### Calculating the conjugacy classes"
   ]
  },
  {
   "cell_type": "code",
   "execution_count": 100,
   "metadata": {},
   "outputs": [
    {
     "ename": "LoadError",
     "evalue": "The inverse of a sparse matrix can often be dense and can cause the computer to run out of memory. If you are sure you have enough memory, please convert your matrix to a dense matrix, e.g. by calling `Matrix`.",
     "output_type": "error",
     "traceback": [
      "The inverse of a sparse matrix can often be dense and can cause the computer to run out of memory. If you are sure you have enough memory, please convert your matrix to a dense matrix, e.g. by calling `Matrix`.",
      "",
      "Stacktrace:",
      " [1] error(s::String)",
      "   @ Base ./error.jl:33",
      " [2] inv(A::SparseArrays.SparseMatrixCSC{ℤd{Bool, 2}, Int64})",
      "   @ SparseArrays /Users/julia/buildbot/worker/package_macos64/build/usr/share/julia/stdlib/v1.6/SparseArrays/src/linalg.jl:1456",
      " [3] calculate_conjugacy_classes(group::Bijections.Bijection{String, SparseArrays.SparseMatrixCSC{ℤd{Bool, 2}, Int64}}; inverse::typeof(inv), prnt::Bool)",
      "   @ ClosedGroupFunctions ~/.julia/packages/ClosedGroupFunctions/irVt5/src/calculate_conjugacy_classes.jl:30",
      " [4] calculate_conjugacy_classes(group::Bijections.Bijection{String, SparseArrays.SparseMatrixCSC{ℤd{Bool, 2}, Int64}})",
      "   @ ClosedGroupFunctions ~/.julia/packages/ClosedGroupFunctions/irVt5/src/calculate_conjugacy_classes.jl:10",
      " [5] top-level scope",
      "   @ In[100]:1",
      " [6] eval",
      "   @ ./boot.jl:360 [inlined]",
      " [7] include_string(mapexpr::typeof(REPL.softscope), mod::Module, code::String, filename::String)",
      "   @ Base ./loading.jl:1094"
     ]
    }
   ],
   "source": [
    "conjugacy_classes = calculate_conjugacy_classes(labelled_group)\n"
   ]
  },
  {
   "cell_type": "markdown",
   "metadata": {},
   "source": [
    "#### Invariants\n",
    "The package provides a few invariants that can be used:\n",
    "\n",
    "1. Order of an element: `ord(g)`\n",
    "2. Trace of an element (with higher powers): `tr_of_power(g, power) = tr(g^power)`\n",
    "3. Rank of an element (+ Id): `rank_of_power_plus_id(g, power, n) = rank(g^power + id(n))`\n",
    "4. Generalized Arf invariant of an element: `generalized_arf(g, n; readable = true)`\n",
    "\n",
    "To use this functions for investigation of the conjugacy classes, we can use the functions `apply_invariant_to_first_in_class(...)` or `apply_invariant_to_first_in_all_classes(...)` from the `ClosedGroupFunctions.jl` package.\n",
    "\n",
    "Both of these functions expect an `invariant` with exactly one argument: the element `g`. Therefore we have to define wrappers for the invariants, that we want to look at."
   ]
  },
  {
   "cell_type": "code",
   "execution_count": 127,
   "metadata": {},
   "outputs": [
    {
     "data": {
      "text/plain": [
       "5×5 Matrix{ℤd{Bool, 2}}:\n",
       " 0  1  0  0  0\n",
       " 0  0  1  1  1\n",
       " 1  0  0  1  1\n",
       " 1  0  1  0  1\n",
       " 1  0  1  1  0"
      ]
     },
     "execution_count": 127,
     "metadata": {},
     "output_type": "execute_result"
    }
   ],
   "source": [
    "inv_wrapper(labelled_group[\"ab\"])"
   ]
  },
  {
   "cell_type": "code",
   "execution_count": 114,
   "metadata": {},
   "outputs": [
    {
     "data": {
      "text/plain": [
       "inv_wrapper (generic function with 3 methods)"
      ]
     },
     "execution_count": 114,
     "metadata": {},
     "output_type": "execute_result"
    }
   ],
   "source": [
    "inv_wrapper(A::AntiIdClosedGroup.SparseMatrixCSC{ℤ₂}) = inv(Matrix{ℤ₂}(A))"
   ]
  },
  {
   "cell_type": "code",
   "execution_count": null,
   "metadata": {},
   "outputs": [],
   "source": []
  },
  {
   "cell_type": "code",
   "execution_count": null,
   "metadata": {},
   "outputs": [],
   "source": []
  },
  {
   "cell_type": "code",
   "execution_count": null,
   "metadata": {},
   "outputs": [],
   "source": []
  },
  {
   "cell_type": "code",
   "execution_count": null,
   "metadata": {},
   "outputs": [],
   "source": []
  },
  {
   "cell_type": "code",
   "execution_count": null,
   "metadata": {},
   "outputs": [],
   "source": []
  },
  {
   "cell_type": "code",
   "execution_count": null,
   "metadata": {},
   "outputs": [],
   "source": []
  },
  {
   "cell_type": "code",
   "execution_count": null,
   "metadata": {},
   "outputs": [],
   "source": []
  }
 ],
 "metadata": {
  "kernelspec": {
   "display_name": "Julia 1.6.0",
   "language": "julia",
   "name": "julia-1.6"
  },
  "language_info": {
   "file_extension": ".jl",
   "mimetype": "application/julia",
   "name": "julia",
   "version": "1.6.0"
  }
 },
 "nbformat": 4,
 "nbformat_minor": 2
}
