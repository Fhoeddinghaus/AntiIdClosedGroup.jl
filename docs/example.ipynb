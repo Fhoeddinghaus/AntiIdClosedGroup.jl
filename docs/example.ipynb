{
 "cells": [
  {
   "cell_type": "markdown",
   "metadata": {},
   "source": [
    "# Example Usage of the package AntiIdClosedGroup\n",
    "\n",
    "This package directly depends on\n",
    "- [ClosedGroupFunctions.jl](https://github.com/fhoeddinghaus/ClosedGroupFunctions.jl.git)\n",
    "- [Zd_Arithmetics.jl](https://github.com/fhoeddinghaus/Zd_Arithmetics.jl.git)"
   ]
  },
  {
   "cell_type": "markdown",
   "metadata": {},
   "source": [
    "## Install the Package\n",
    "\n",
    "    ] add git@github.com:Fhoeddinghaus/AntiIdClosedGroup.jl.git\n",
    "\n",
    "or\n",
    "\n",
    "    ] add https://github.com/Fhoeddinghaus/AntiIdClosedGroup.jl.git"
   ]
  },
  {
   "cell_type": "markdown",
   "metadata": {},
   "source": [
    "## Load the Package"
   ]
  },
  {
   "cell_type": "code",
   "execution_count": 1,
   "metadata": {},
   "outputs": [
    {
     "name": "stderr",
     "output_type": "stream",
     "text": [
      "┌ Info: Precompiling AntiIdClosedGroup [top-level]\n",
      "└ @ Base loading.jl:1317\n"
     ]
    }
   ],
   "source": [
    "using ClosedGroupFunctions\n",
    "using Zd_Arithmetics\n",
    "\n",
    "import Zd_Arithmetics: ℤ₂\n",
    "\n",
    "push!(LOAD_PATH,\"../src/\") # for developement, load the local package\n",
    "using AntiIdClosedGroup"
   ]
  },
  {
   "cell_type": "markdown",
   "metadata": {},
   "source": [
    "## Generating the group\n",
    "\n",
    "### Defining the parameters"
   ]
  },
  {
   "cell_type": "code",
   "execution_count": 60,
   "metadata": {},
   "outputs": [
    {
     "data": {
      "text/plain": [
       "4"
      ]
     },
     "execution_count": 60,
     "metadata": {},
     "output_type": "execute_result"
    }
   ],
   "source": [
    "n = 5 # size of the outer matrix\n",
    "k = 4 # size of the anti-identity sub-block"
   ]
  },
  {
   "cell_type": "markdown",
   "metadata": {},
   "source": [
    "### The standard generators\n"
   ]
  },
  {
   "cell_type": "code",
   "execution_count": 3,
   "metadata": {},
   "outputs": [
    {
     "name": "stdout",
     "output_type": "stream",
     "text": [
      "There are Ω = (5 choose 4) = 5  possible basic permutations.\n"
     ]
    }
   ],
   "source": [
    "Ω, all_pos, all_generators = construct_generators(n,k);"
   ]
  },
  {
   "cell_type": "markdown",
   "metadata": {},
   "source": [
    "#### Outputting the generators as LaTeX\n",
    "\n",
    "The generators can be converted to LaTeX-code if needed using\n",
    "\n",
    "    po2matrix(...)\n",
    "or\n",
    "\n",
    "    all_pos2matrix(...)\n",
    "\n",
    "(See [documentation](https://fhoeddinghaus.github.io/AntiIdClosedGroup.jl/).)"
   ]
  },
  {
   "cell_type": "markdown",
   "metadata": {},
   "source": [
    "### Generating the groups using the `ClosedGroupFunctions.jl`-Package"
   ]
  },
  {
   "cell_type": "code",
   "execution_count": 74,
   "metadata": {},
   "outputs": [
    {
     "name": "stdout",
     "output_type": "stream",
     "text": [
      "level #1 size 5 and 21 new elements (25 multiplications)\n",
      "level #2 size 26 and 240 new elements (651 multiplications)\n",
      "level #3 size 266 and 454 new elements (70080 multiplications)\n",
      "level #4 size 720 and 0 new elements (447644 multiplications)\n",
      "\n",
      "Ended after 4 iterations. \n",
      "The resulting group has 720 elements.\n"
     ]
    }
   ],
   "source": [
    "group, num_all_multiplications = group_generator_basic(all_generators; prnt=false, commutes=false);"
   ]
  },
  {
   "cell_type": "markdown",
   "metadata": {},
   "source": [
    "It's not necessary to use the generators, as the `group_generator_basic` takes all kind of elements. Someone may try smaller sets of generators, as seen below (permutations).\n",
    "\n",
    "It's advised to save the calculated group to disk for later use by using `ClosedGroupFunctions.jl`'s `store_group(...)` and `load_group(...)` functions."
   ]
  },
  {
   "cell_type": "code",
   "execution_count": 76,
   "metadata": {},
   "outputs": [],
   "source": [
    "# store the group to disk\n",
    "store_group(\"n$n\" * \"k$k\", group)"
   ]
  },
  {
   "cell_type": "code",
   "execution_count": 4,
   "metadata": {},
   "outputs": [],
   "source": [
    "# load the group from disk\n",
    "group = load_group(\"n$n\" * \"k$k\");"
   ]
  },
  {
   "cell_type": "markdown",
   "metadata": {},
   "source": [
    "#### Labelling the group"
   ]
  },
  {
   "cell_type": "code",
   "execution_count": 5,
   "metadata": {},
   "outputs": [
    {
     "name": "stdout",
     "output_type": "stream",
     "text": [
      "level #1 size 5 and 21 new elements (25 multiplications)\n",
      "level #2 size 26 and 240 new elements (651 multiplications)\n",
      "level #3 size 266 and 454 new elements (70080 multiplications)\n",
      "level #4 size 720 and 0 new elements (447644 multiplications)\n",
      "\n",
      "Ended after 4 iterations. \n",
      "The resulting group has 720 elements.\n"
     ]
    }
   ],
   "source": [
    "# label the generators\n",
    "all_generators_labelled = label_generators(all_generators);\n",
    "\n",
    "# label the group with the fast method\n",
    "#number_of_elements = length(group)\n",
    "#labelled_group = labelled_group_generator_simple(all_generators_labelled, number_of_elements; commutes=false);\n",
    "\n",
    "# or label the group with the shortest possible label (slower method)\n",
    "labelled_group = labelled_group_generator_shortest(all_generators_labelled; prnt=false, commutes=false)[1];"
   ]
  },
  {
   "cell_type": "code",
   "execution_count": 8,
   "metadata": {},
   "outputs": [],
   "source": [
    "# it's advised to store the labelled group for future use\n",
    "store_group(\"n$n\" * \"k$k\", labelled_group; filename_prefix=\"closed_group_labelled_\")"
   ]
  },
  {
   "cell_type": "code",
   "execution_count": 5,
   "metadata": {},
   "outputs": [],
   "source": [
    "# load the labelled group from disk\n",
    "labelled_group = load_group(\"n$n\" * \"k$k\"; filename_prefix=\"closed_group_labelled_\");"
   ]
  },
  {
   "cell_type": "markdown",
   "metadata": {},
   "source": [
    "## Investigation and Analysis\n",
    "\n",
    "We now want to investigate the group and it's generators further.\n",
    "\n",
    "### Permutations\n",
    "\n",
    "To investigate the group/generators under permutations, we first have to label the elements like above and then calculate all possible permutations."
   ]
  },
  {
   "cell_type": "code",
   "execution_count": 81,
   "metadata": {},
   "outputs": [],
   "source": [
    "all_generators_labelled = label_generators(all_generators);"
   ]
  },
  {
   "cell_type": "code",
   "execution_count": 82,
   "metadata": {},
   "outputs": [],
   "source": [
    "# all permutations of [1, 2, 3, 4, 5, 6, 7] can be found with Combinatorics.jl\n",
    "# either by\n",
    "# using Combinatorics\n",
    "# collect(permutations(1:n))\n",
    "# or without importing (AntiIdClosedGroup depends directly on Combinatorics.jl)\n",
    "all_permutations = collect(AntiIdClosedGroup.permutations(1:n));"
   ]
  },
  {
   "cell_type": "markdown",
   "metadata": {},
   "source": [
    "Now we can apply the permutations (or a some of them) to the labelled generators by using the following function. The output is redirected and **appended** into a file with a given prefix (`\"permutation_cycles_\"`) and the identifier (`\"tmp_1\"`), because it's quite long."
   ]
  },
  {
   "cell_type": "code",
   "execution_count": 84,
   "metadata": {},
   "outputs": [],
   "source": [
    "print_permutation_cycles(all_generators_labelled, all_permutations, \"n$n\" * \"k$k\")"
   ]
  },
  {
   "cell_type": "markdown",
   "metadata": {},
   "source": [
    "After some analysis of the file, we find a list of permutations, that can construct the other generators from each other. In the file, `p[i]` corresponds to the `i`th permutation in the entered list, `all_permutations`."
   ]
  },
  {
   "cell_type": "code",
   "execution_count": 35,
   "metadata": {},
   "outputs": [],
   "source": [
    "# in this case, only one permutation is needed to calculate all other generators from one of them.\n",
    "selected_permutations = [97] \n",
    "ps = all_permutations[selected_permutations]\n",
    "\n",
    "Pₛ = [perm_rows(id(n), ps[i]) for i in 1:length(ps)]\n",
    "Qₛ = [perm_cols(id(n), ps[i]) for i in 1:length(ps)] # Q = P_inv\n",
    "\n",
    "# new set of generators\n",
    "a = all_generators[1]\n",
    "new_generators = [a, Pₛ..., Qₛ...];"
   ]
  },
  {
   "cell_type": "code",
   "execution_count": null,
   "metadata": {},
   "outputs": [],
   "source": [
    "# calculate the group with the new generators"
   ]
  },
  {
   "cell_type": "code",
   "execution_count": 36,
   "metadata": {},
   "outputs": [
    {
     "name": "stdout",
     "output_type": "stream",
     "text": [
      "level #1 size 3 and 7 new elements (9 multiplications)\n",
      "level #2 size 10 and 28 new elements (91 multiplications)\n",
      "level #3 size 38 and 296 new elements (1344 multiplications)\n",
      "level #4 size 334 and 386 new elements (110112 multiplications)\n",
      "level #5 size 720 and 0 new elements (406844 multiplications)\n",
      "\n",
      "Ended after 5 iterations. \n",
      "The resulting group has 720 elements.\n"
     ]
    }
   ],
   "source": [
    "group_with_perms, num_all_multiplications_with_perms = group_generator_basic(new_generators; prnt=false, commutes=false);"
   ]
  },
  {
   "cell_type": "code",
   "execution_count": 42,
   "metadata": {},
   "outputs": [
    {
     "data": {
      "text/plain": [
       "true"
      ]
     },
     "execution_count": 42,
     "metadata": {},
     "output_type": "execute_result"
    }
   ],
   "source": [
    "# As explained in the thesis results, the group stays the same under permutations, \n",
    "# because all possible permutations are already part of the group.\n",
    "# This is therefore a method to possibly find a smaller set of generators.\n",
    "group == group_with_perms"
   ]
  },
  {
   "cell_type": "markdown",
   "metadata": {},
   "source": [
    "### Invariants and Conjugacy Classes\n",
    "\n",
    "#### Calculating the conjugacy classes"
   ]
  },
  {
   "cell_type": "code",
   "execution_count": 6,
   "metadata": {},
   "outputs": [
    {
     "name": "stdout",
     "output_type": "stream",
     "text": [
      "Cl(a): \t|15|\t remaining elements: 705\n",
      "Cl(ab): \t|40|\t remaining elements: 665\n",
      "Cl(abc): \t|90|\t remaining elements: 575\n",
      "Cl(abcd): \t|144|\t remaining elements: 431\n",
      "Cl(abcde): \t|120|\t remaining elements: 311\n",
      "Cl(abcecd): \t|90|\t remaining elements: 221\n",
      "Cl(abdcdea): \t|120|\t remaining elements: 101\n",
      "Cl(abdebc): \t|40|\t remaining elements: 61\n",
      "Cl(abeb): \t|45|\t remaining elements: 16\n",
      "Cl(aedbcbe): \t|15|\t remaining elements: 1\n",
      "Cl(cc): \t|1|\t remaining elements: 0\n",
      "\n",
      "There were 11 different conjugacy classes found.\n"
     ]
    }
   ],
   "source": [
    "conjugacy_classes = calculate_conjugacy_classes(labelled_group);\n",
    "\n",
    "println(\"\\nThere were $(length(conjugacy_classes)) different conjugacy classes found.\")"
   ]
  },
  {
   "cell_type": "code",
   "execution_count": 8,
   "metadata": {},
   "outputs": [],
   "source": [
    "store_group(\"n$n\" * \"k$k\", conjugacy_classes; filename_prefix=\"conjugacy_classes_\")"
   ]
  },
  {
   "cell_type": "code",
   "execution_count": 10,
   "metadata": {},
   "outputs": [],
   "source": [
    "conjugacy_classes = load_group(\"n$n\" * \"k$k\"; filename_prefix=\"conjugacy_classes_\");"
   ]
  },
  {
   "cell_type": "markdown",
   "metadata": {},
   "source": [
    "#### Invariants\n",
    "The package provides a few invariants that can be used:\n",
    "\n",
    "1. Order of an element: `ord(g, n)`\n",
    "2. Trace of an element (with higher powers): `tr_of_power(g, power) = tr(g^power)`\n",
    "3. Rank of an element (+ Id): `rank_of_power_plus_id(g, power, n) = rank(g^power + id(n))`\n",
    "4. Generalized Arf invariant of an element: `generalized_arf(g, n; readable = true)`\n",
    "\n",
    "To use this functions for investigation of the conjugacy classes, we can use the functions `apply_invariant_to_first_in_class(...)` or `apply_invariant_to_first_in_all_classes(...)` from the `ClosedGroupFunctions.jl` package.\n",
    "\n",
    "Both of these functions expect an `invariant` with exactly one argument: the element `g`. Therefore we have to define wrappers for the invariants, that we want to look at."
   ]
  },
  {
   "cell_type": "code",
   "execution_count": 51,
   "metadata": {},
   "outputs": [],
   "source": [
    "prnt = false;"
   ]
  },
  {
   "cell_type": "code",
   "execution_count": 52,
   "metadata": {},
   "outputs": [],
   "source": [
    "# 1. order\n",
    "order(g) = ord(g,n)\n",
    "order_values = apply_invariant_to_first_in_all_classes(conjugacy_classes, labelled_group, order; prnt=prnt);\n"
   ]
  },
  {
   "cell_type": "code",
   "execution_count": 53,
   "metadata": {},
   "outputs": [
    {
     "name": "stdout",
     "output_type": "stream",
     "text": [
      "\n"
     ]
    }
   ],
   "source": [
    "# 2. trace\n",
    "# 2.1 power = 1\n",
    "tr¹(g) = tr_of_power(g, 1)\n",
    "tr¹_values = apply_invariant_to_first_in_all_classes(conjugacy_classes, labelled_group, tr¹; prnt=prnt);\n",
    "println(\"\")\n",
    "\n",
    "# 2.2 power = 2\n",
    "tr²(g) = tr_of_power(g, 2)\n",
    "tr²_values = apply_invariant_to_first_in_all_classes(conjugacy_classes, labelled_group, tr²; prnt=prnt);\n",
    "\n",
    "# ... maybe higher powers"
   ]
  },
  {
   "cell_type": "code",
   "execution_count": 54,
   "metadata": {},
   "outputs": [
    {
     "name": "stdout",
     "output_type": "stream",
     "text": [
      "\n"
     ]
    }
   ],
   "source": [
    "# 3. rank\n",
    "# 3.1 rank(g^1 + I)\n",
    "rank¹(g) = rank_of_power_plus_id(Matrix(g), 1, n) # sometimes a wrapping of g with Matrix(g) is needed\n",
    "rank¹_values = apply_invariant_to_first_in_all_classes(conjugacy_classes, labelled_group, rank¹; prnt=prnt);\n",
    "println(\"\")\n",
    "\n",
    "# 3.2 rank(g^2 + I)\n",
    "rank²(g) = rank_of_power_plus_id(Matrix(g), 2, n)\n",
    "rank²_values = apply_invariant_to_first_in_all_classes(conjugacy_classes, labelled_group, rank²; prnt=prnt);\n",
    "\n",
    "# ... maybe higher powers"
   ]
  },
  {
   "cell_type": "code",
   "execution_count": 55,
   "metadata": {},
   "outputs": [],
   "source": [
    "# 4. GArf\n",
    "garf(g) = generalized_arf(g, n; readable=true)\n",
    "garf_values = apply_invariant_to_first_in_all_classes(conjugacy_classes, labelled_group, garf; prnt=prnt);\n"
   ]
  },
  {
   "cell_type": "markdown",
   "metadata": {},
   "source": [
    "#### Pretty output of the values using a HTML table"
   ]
  },
  {
   "cell_type": "code",
   "execution_count": 65,
   "metadata": {},
   "outputs": [
    {
     "data": {
      "text/html": [
       "<table><thead>\n",
       "            <tr>\n",
       "                <td>Conjugacy Class No.</td>\n",
       "                <td>x for Cl(x)</td>\n",
       "<td># of elements in Cl(x)</td>\n",
       "<td>ord(g)</td>\n",
       "<td>tr(g^1)</td>\n",
       "<td>tr(g^2)</td>\n",
       "<td>rank(g^1 + 1)</td>\n",
       "<td>rank(g^2 + 1)</td>\n",
       "<td>GArf [radian, °]</td>\n",
       "\n",
       "                \n",
       "            </tr>\n",
       "        </thead><tbody>\n",
       "<tr><td>1</td><td>a</td>\n",
       "<td>15</td>\n",
       "<td>2</td>\n",
       "<td>1</td>\n",
       "<td>1</td>\n",
       "<td>1</td>\n",
       "<td>0</td>\n",
       "<td>(\"0.0π\", \"0.0°\")</td>\n",
       "</tr>\n",
       "<tr><td>2</td><td>ab</td>\n",
       "<td>40</td>\n",
       "<td>3</td>\n",
       "<td>0</td>\n",
       "<td>0</td>\n",
       "<td>3</td>\n",
       "<td>3</td>\n",
       "<td>(\"-0.75π\", \"-135.0°\")</td>\n",
       "</tr>\n",
       "<tr><td>3</td><td>abc</td>\n",
       "<td>90</td>\n",
       "<td>4</td>\n",
       "<td>1</td>\n",
       "<td>1</td>\n",
       "<td>3</td>\n",
       "<td>2</td>\n",
       "<td>(\"0.25π\", \"45.0°\")</td>\n",
       "</tr>\n",
       "<tr><td>4</td><td>abcd</td>\n",
       "<td>144</td>\n",
       "<td>5</td>\n",
       "<td>0</td>\n",
       "<td>0</td>\n",
       "<td>5</td>\n",
       "<td>5</td>\n",
       "<td>(\"0.25π\", \"45.0°\")</td>\n",
       "</tr>\n",
       "<tr><td>5</td><td>abcde</td>\n",
       "<td>120</td>\n",
       "<td>6</td>\n",
       "<td>1</td>\n",
       "<td>1</td>\n",
       "<td>4</td>\n",
       "<td>5</td>\n",
       "<td>(\"0.25π\", \"45.0°\")</td>\n",
       "</tr>\n",
       "<tr><td>6</td><td>abcecd</td>\n",
       "<td>90</td>\n",
       "<td>4</td>\n",
       "<td>1</td>\n",
       "<td>1</td>\n",
       "<td>3</td>\n",
       "<td>2</td>\n",
       "<td>(\"0.0π\", \"0.0°\")</td>\n",
       "</tr>\n",
       "<tr><td>7</td><td>abdcdea</td>\n",
       "<td>120</td>\n",
       "<td>6</td>\n",
       "<td>0</td>\n",
       "<td>0</td>\n",
       "<td>4</td>\n",
       "<td>3</td>\n",
       "<td>(\"0.25π\", \"45.0°\")</td>\n",
       "</tr>\n",
       "<tr><td>8</td><td>abdebc</td>\n",
       "<td>40</td>\n",
       "<td>3</td>\n",
       "<td>1</td>\n",
       "<td>1</td>\n",
       "<td>5</td>\n",
       "<td>5</td>\n",
       "<td>(\"0.25π\", \"45.0°\")</td>\n",
       "</tr>\n",
       "<tr><td>9</td><td>abeb</td>\n",
       "<td>45</td>\n",
       "<td>2</td>\n",
       "<td>1</td>\n",
       "<td>1</td>\n",
       "<td>2</td>\n",
       "<td>0</td>\n",
       "<td>(\"0.0π\", \"0.0°\")</td>\n",
       "</tr>\n",
       "<tr><td>10</td><td>aedbcbe</td>\n",
       "<td>15</td>\n",
       "<td>2</td>\n",
       "<td>1</td>\n",
       "<td>1</td>\n",
       "<td>2</td>\n",
       "<td>0</td>\n",
       "<td>(\"0.0π\", \"0.0°\")</td>\n",
       "</tr>\n",
       "<tr><td>11</td><td>cc</td>\n",
       "<td>1</td>\n",
       "<td>1</td>\n",
       "<td>1</td>\n",
       "<td>1</td>\n",
       "<td>0</td>\n",
       "<td>0</td>\n",
       "<td>(\"-0.75π\", \"-135.0°\")</td>\n",
       "</tr>\n",
       "</tbody></table>\n"
      ],
      "text/plain": [
       "HTML{var\"#35#36\"}(var\"#35#36\"())"
      ]
     },
     "execution_count": 65,
     "metadata": {},
     "output_type": "execute_result"
    }
   ],
   "source": [
    "# list of invariants (columns) to print out in the form of label => values\n",
    "column_keys = [\"# of elements in Cl(x)\", \"ord(g)\", \"tr(g^1)\", \"tr(g^2)\", \"rank(g^1 + 1)\", \"rank(g^2 + 1)\", \"GArf [radian, °]\"]\n",
    "columns = Dict([\n",
    "        \"# of elements in Cl(x)\" => length.(conjugacy_classes),\n",
    "        \"ord(g)\" => order_values,\n",
    "        \"tr(g^1)\" => tr¹_values,\n",
    "        \"tr(g^2)\" => tr²_values,\n",
    "        \"rank(g^1 + 1)\" => rank¹_values,\n",
    "        \"rank(g^2 + 1)\" => rank²_values,\n",
    "        \"GArf [radian, °]\" => garf_values\n",
    "        ])\n",
    "\n",
    "HTML() do io\n",
    "    println(io, \"<table><thead>\n",
    "            <tr>\n",
    "                <td>Conjugacy Class No.</td>\n",
    "                <td>x for Cl(x)</td>\")\n",
    "    for l in column_keys\n",
    "        println(io, \"<td>\" * l * \"</td>\")\n",
    "    end\n",
    "    println(io, \"\n",
    "                \n",
    "            </tr>\n",
    "        </thead><tbody>\")\n",
    "    for i in 1:length(conjugacy_classes)\n",
    "        println(io, \"<tr><td>$i</td><td>\" * sort(collect(conjugacy_classes[i]))[1] * \"</td>\")\n",
    "        for l in column_keys\n",
    "             println(io, \"<td>$(columns[l][i])</td>\")\n",
    "        end\n",
    "        println(io, \"</tr>\")\n",
    "    end\n",
    "    \n",
    "    println(io, \"</tbody></table>\")\n",
    "end"
   ]
  }
 ],
 "metadata": {
  "kernelspec": {
   "display_name": "Julia 1.6.0",
   "language": "julia",
   "name": "julia-1.6"
  },
  "language_info": {
   "file_extension": ".jl",
   "mimetype": "application/julia",
   "name": "julia",
   "version": "1.6.0"
  }
 },
 "nbformat": 4,
 "nbformat_minor": 2
}
