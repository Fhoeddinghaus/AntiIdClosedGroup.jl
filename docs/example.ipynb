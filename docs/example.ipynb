{
 "cells": [
  {
   "cell_type": "markdown",
   "source": [
    "# Example Usage of the package AntiIdClosedGroup\n",
    "\n",
    "This package depends on\n",
    "- [ClosedGroupFunctions.jl](https://github.com/fhoeddinghaus/ClosedGroupFunctions.jl.git)\n",
    "- [Zd_Arithmetics.jl](https://github.com/fhoeddinghaus/Zd_Arithmetics.jl.git)"
   ],
   "metadata": {}
  },
  {
   "cell_type": "markdown",
   "source": [
    "## Install the Package\n",
    "\n",
    "    ] add git@github.com:Fhoeddinghaus/AntiIdClosedGroup.jl.git\n",
    "\n",
    "or\n",
    "\n",
    "    ] add https://github.com/Fhoeddinghaus/AntiIdClosedGroup.jl.git"
   ],
   "metadata": {}
  },
  {
   "cell_type": "markdown",
   "source": [
    "## Load the Package"
   ],
   "metadata": {}
  },
  {
   "cell_type": "code",
   "execution_count": 2,
   "source": [
    "using ClosedGroupFunctions\n",
    "using Zd_Arithmetics\n",
    "\n",
    "import Zd_Arithmetics: ℤ₂\n",
    "\n",
    "push!(LOAD_PATH,\"../src/\") # for developement, load the local package\n",
    "using AntiIdClosedGroup"
   ],
   "outputs": [],
   "metadata": {}
  },
  {
   "cell_type": "markdown",
   "source": [
    "## Generating the group\n",
    "\n",
    "### Defining the parameters"
   ],
   "metadata": {}
  },
  {
   "cell_type": "code",
   "execution_count": 12,
   "source": [
    "n = 7 # size of the outer matrix\n",
    "k = 2 # size of the anti-identity sub-block"
   ],
   "outputs": [
    {
     "output_type": "execute_result",
     "data": {
      "text/plain": [
       "2"
      ]
     },
     "metadata": {},
     "execution_count": 12
    }
   ],
   "metadata": {}
  },
  {
   "cell_type": "markdown",
   "source": [
    "### The standard generators\n"
   ],
   "metadata": {}
  },
  {
   "cell_type": "code",
   "execution_count": 13,
   "source": [
    "Ω, all_pos, all_generators = construct_generators(n,k);"
   ],
   "outputs": [
    {
     "output_type": "stream",
     "name": "stdout",
     "text": [
      "There are Ω = (7 choose 2) = 21  possible basic permutations.\n"
     ]
    }
   ],
   "metadata": {}
  },
  {
   "cell_type": "markdown",
   "source": [
    "#### Outputting the generators as LaTeX\n",
    "\n",
    "The generators can be converted to LaTeX-code if needed using\n",
    "\n",
    "    po2matrix(...)\n",
    "or\n",
    "\n",
    "    all_pos2matrix(...)\n",
    "\n",
    "(See [documentation](https://fhoeddinghaus.github.io/AntiIdClosedGroup.jl/).)"
   ],
   "metadata": {}
  },
  {
   "cell_type": "markdown",
   "source": [
    "### Generating the groups using the `ClosedGroupFunctions.jl`-Package"
   ],
   "metadata": {}
  },
  {
   "cell_type": "code",
   "execution_count": 14,
   "source": [
    "group, num_all_multiplications = group_generator_basic(all_generators; prnt=false, commutes=false);"
   ],
   "outputs": [
    {
     "output_type": "stream",
     "name": "stdout",
     "text": [
      "level #1 size 21 and 176 new elements (441 multiplications)\n",
      "level #2 size 197 and 2359 new elements (38368 multiplications)\n",
      "level #3 size 2556 and 2484 new elements (6494327 multiplications)\n",
      "level #4 size 5040 and 0 new elements (18868464 multiplications)\n",
      "\n",
      "Ended after 4 iterations. \n",
      "The resulting group has 5040 elements.\n"
     ]
    }
   ],
   "metadata": {}
  },
  {
   "cell_type": "code",
   "execution_count": null,
   "source": [],
   "outputs": [],
   "metadata": {}
  },
  {
   "cell_type": "code",
   "execution_count": null,
   "source": [],
   "outputs": [],
   "metadata": {}
  },
  {
   "cell_type": "code",
   "execution_count": null,
   "source": [],
   "outputs": [],
   "metadata": {}
  },
  {
   "cell_type": "code",
   "execution_count": null,
   "source": [],
   "outputs": [],
   "metadata": {}
  }
 ],
 "metadata": {
  "orig_nbformat": 4,
  "language_info": {
   "file_extension": ".jl",
   "name": "julia",
   "mimetype": "application/julia",
   "version": "1.6.0"
  },
  "kernelspec": {
   "name": "julia-1.6",
   "display_name": "Julia 1.6.0",
   "language": "julia"
  }
 },
 "nbformat": 4,
 "nbformat_minor": 2
}