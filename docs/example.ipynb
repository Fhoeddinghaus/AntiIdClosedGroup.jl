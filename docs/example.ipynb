{
 "cells": [
  {
   "cell_type": "markdown",
   "metadata": {},
   "source": [
    "# Example Usage of the package AntiIdClosedGroup\n",
    "\n",
    "This package directly depends on\n",
    "- [ClosedGroupFunctions.jl](https://github.com/fhoeddinghaus/ClosedGroupFunctions.jl.git)\n",
    "- [Zd_Arithmetics.jl](https://github.com/fhoeddinghaus/Zd_Arithmetics.jl.git)"
   ]
  },
  {
   "cell_type": "markdown",
   "metadata": {},
   "source": [
    "## Install the Package\n",
    "\n",
    "    ] add git@github.com:Fhoeddinghaus/AntiIdClosedGroup.jl.git\n",
    "\n",
    "or\n",
    "\n",
    "    ] add https://github.com/Fhoeddinghaus/AntiIdClosedGroup.jl.git"
   ]
  },
  {
   "cell_type": "markdown",
   "metadata": {},
   "source": [
    "## Load the Package"
   ]
  },
  {
   "cell_type": "code",
   "execution_count": 3,
   "metadata": {},
   "outputs": [
    {
     "name": "stderr",
     "output_type": "stream",
     "text": [
      "┌ Info: Precompiling AntiIdClosedGroup [top-level]\n",
      "└ @ Base loading.jl:1317\n"
     ]
    }
   ],
   "source": [
    "using ClosedGroupFunctions\n",
    "using Zd_Arithmetics\n",
    "\n",
    "import Zd_Arithmetics: ℤ₂\n",
    "\n",
    "push!(LOAD_PATH,\"../src/\") # for developement, load the local package\n",
    "using AntiIdClosedGroup"
   ]
  },
  {
   "cell_type": "markdown",
   "metadata": {},
   "source": [
    "## Generating the group\n",
    "\n",
    "### Defining the parameters"
   ]
  },
  {
   "cell_type": "code",
   "execution_count": 4,
   "metadata": {},
   "outputs": [
    {
     "data": {
      "text/plain": [
       "4"
      ]
     },
     "execution_count": 4,
     "metadata": {},
     "output_type": "execute_result"
    }
   ],
   "source": [
    "n = 5 # size of the outer matrix\n",
    "k = 4 # size of the anti-identity sub-block"
   ]
  },
  {
   "cell_type": "markdown",
   "metadata": {},
   "source": [
    "### The standard generators\n"
   ]
  },
  {
   "cell_type": "code",
   "execution_count": 5,
   "metadata": {},
   "outputs": [
    {
     "name": "stdout",
     "output_type": "stream",
     "text": [
      "There are Ω = (5 choose 4) = 5  possible basic permutations.\n"
     ]
    }
   ],
   "source": [
    "Ω, all_pos, all_generators = construct_generators(n,k);"
   ]
  },
  {
   "cell_type": "markdown",
   "metadata": {},
   "source": [
    "#### Outputting the generators as LaTeX\n",
    "\n",
    "The generators can be converted to LaTeX-code if needed using\n",
    "\n",
    "    po2matrix(...)\n",
    "or\n",
    "\n",
    "    all_pos2matrix(...)\n",
    "\n",
    "(See [documentation](https://fhoeddinghaus.github.io/AntiIdClosedGroup.jl/).)"
   ]
  },
  {
   "cell_type": "markdown",
   "metadata": {},
   "source": [
    "### Generating the groups using the `ClosedGroupFunctions.jl`-Package"
   ]
  },
  {
   "cell_type": "code",
   "execution_count": 34,
   "metadata": {},
   "outputs": [
    {
     "name": "stdout",
     "output_type": "stream",
     "text": [
      "level #1 size 5 and 21 new elements (25 multiplications)\n",
      "level #2 size 26 and 240 new elements (651 multiplications)\n",
      "level #3 size 266 and 454 new elements (70080 multiplications)\n",
      "level #4 size 720 and 0 new elements (447644 multiplications)\n",
      "\n",
      "Ended after 4 iterations. \n",
      "The resulting group has 720 elements.\n"
     ]
    }
   ],
   "source": [
    "group, num_all_multiplications = group_generator_basic(all_generators; prnt=false, commutes=false);"
   ]
  },
  {
   "cell_type": "markdown",
   "metadata": {},
   "source": [
    "It's not necessary to use the generators, as the `group_generator_basic` takes all kind of elements. Someone may try smaller sets of generators, as seen below (permutations)"
   ]
  },
  {
   "cell_type": "markdown",
   "metadata": {},
   "source": [
    "## Investigation and Analysis\n",
    "\n",
    "We now want to investigate the group and it's generators further.\n",
    "\n",
    "### Permutations\n",
    "\n",
    "To investigate the group/generators under permutations, we first have to label the elements and then calculate all possible permutations."
   ]
  },
  {
   "cell_type": "code",
   "execution_count": 9,
   "metadata": {},
   "outputs": [],
   "source": [
    "all_generators_labelled = label_generators(all_generators);"
   ]
  },
  {
   "cell_type": "code",
   "execution_count": 10,
   "metadata": {},
   "outputs": [],
   "source": [
    "# all permutations of [1, 2, 3, 4, 5, 6, 7] can be found with Combinatorics.jl\n",
    "# either by\n",
    "# using Combinatorics\n",
    "# collect(permutations(1:n))\n",
    "# or without importing (AntiIdClosedGroup depends directly on Combinatorics.jl)\n",
    "all_permutations = collect(AntiIdClosedGroup.permutations(1:n));"
   ]
  },
  {
   "cell_type": "markdown",
   "metadata": {},
   "source": [
    "Now we can apply the permutations (or a some of them) to the labelled generators by using the following function. The output is redirected and **appended** into a file with a given prefix (`\"permutation_cycles_\"`) and the identifier (`\"tmp_1\"`), because it's quite long."
   ]
  },
  {
   "cell_type": "code",
   "execution_count": 12,
   "metadata": {},
   "outputs": [],
   "source": [
    "print_permutation_cycles(all_generators_labelled, all_permutations, \"tmp_1\")"
   ]
  },
  {
   "cell_type": "markdown",
   "metadata": {},
   "source": [
    "After some analysis of the file, we find a list of permutations, that can construct the other generators from each other. In the file, `p[i]` corresponds to the `i`th permutation in the entered list, `all_permutations`."
   ]
  },
  {
   "cell_type": "code",
   "execution_count": 35,
   "metadata": {},
   "outputs": [],
   "source": [
    "# in this case, only one permutation is needed to calculate all other generators from one of them.\n",
    "selected_permutations = [97] \n",
    "ps = all_permutations[selected_permutations]\n",
    "\n",
    "Pₛ = [perm_rows(id(n), ps[i]) for i in 1:length(ps)]\n",
    "Qₛ = [perm_cols(id(n), ps[i]) for i in 1:length(ps)] # Q = P_inv\n",
    "\n",
    "# new set of generators\n",
    "a = all_generators[1]\n",
    "new_generators = [a, Pₛ..., Qₛ...];"
   ]
  },
  {
   "cell_type": "code",
   "execution_count": null,
   "metadata": {},
   "outputs": [],
   "source": [
    "# calculate the group with the new generators"
   ]
  },
  {
   "cell_type": "code",
   "execution_count": 36,
   "metadata": {},
   "outputs": [
    {
     "name": "stdout",
     "output_type": "stream",
     "text": [
      "level #1 size 3 and 7 new elements (9 multiplications)\n",
      "level #2 size 10 and 28 new elements (91 multiplications)\n",
      "level #3 size 38 and 296 new elements (1344 multiplications)\n",
      "level #4 size 334 and 386 new elements (110112 multiplications)\n",
      "level #5 size 720 and 0 new elements (406844 multiplications)\n",
      "\n",
      "Ended after 5 iterations. \n",
      "The resulting group has 720 elements.\n"
     ]
    }
   ],
   "source": [
    "group_with_perms, num_all_multiplications_with_perms = group_generator_basic(new_generators; prnt=false, commutes=false);"
   ]
  },
  {
   "cell_type": "code",
   "execution_count": 42,
   "metadata": {},
   "outputs": [
    {
     "data": {
      "text/plain": [
       "true"
      ]
     },
     "execution_count": 42,
     "metadata": {},
     "output_type": "execute_result"
    }
   ],
   "source": [
    "# As explained in the thesis results, the group stays the same under permutations, \n",
    "# because all possible permutations are already part of the group.\n",
    "# This is therefore a method to possibly find a smaller set of generators.\n",
    "group == group_with_perms"
   ]
  },
  {
   "cell_type": "markdown",
   "metadata": {},
   "source": [
    "### Invariants and Conjugacy Classes"
   ]
  },
  {
   "cell_type": "code",
   "execution_count": null,
   "metadata": {},
   "outputs": [],
   "source": []
  },
  {
   "cell_type": "code",
   "execution_count": null,
   "metadata": {},
   "outputs": [],
   "source": []
  },
  {
   "cell_type": "code",
   "execution_count": null,
   "metadata": {},
   "outputs": [],
   "source": []
  },
  {
   "cell_type": "code",
   "execution_count": 27,
   "metadata": {},
   "outputs": [
    {
     "data": {
      "text/plain": [
       "1"
      ]
     },
     "execution_count": 27,
     "metadata": {},
     "output_type": "execute_result"
    }
   ],
   "source": [
    "sum(Vector{ℤd{Int8, 4}}(x))"
   ]
  },
  {
   "cell_type": "code",
   "execution_count": 26,
   "metadata": {},
   "outputs": [
    {
     "data": {
      "text/plain": [
       "6-element Vector{ℤd{Bool, 2}}:\n",
       " 1\n",
       " 1\n",
       " 0\n",
       " 1\n",
       " 1\n",
       " 1"
      ]
     },
     "execution_count": 26,
     "metadata": {},
     "output_type": "execute_result"
    }
   ],
   "source": [
    "x = [ℤ₂(1), ℤ₂(1), ℤ₂(0), ℤ₂(1), ℤ₂(1), ℤ₂(1)]"
   ]
  },
  {
   "cell_type": "code",
   "execution_count": null,
   "metadata": {},
   "outputs": [],
   "source": []
  },
  {
   "cell_type": "code",
   "execution_count": null,
   "metadata": {},
   "outputs": [],
   "source": []
  },
  {
   "cell_type": "code",
   "execution_count": null,
   "metadata": {},
   "outputs": [],
   "source": []
  },
  {
   "cell_type": "code",
   "execution_count": null,
   "metadata": {},
   "outputs": [],
   "source": []
  },
  {
   "cell_type": "code",
   "execution_count": null,
   "metadata": {},
   "outputs": [],
   "source": []
  }
 ],
 "metadata": {
  "kernelspec": {
   "display_name": "Julia 1.6.0",
   "language": "julia",
   "name": "julia-1.6"
  },
  "language_info": {
   "file_extension": ".jl",
   "mimetype": "application/julia",
   "name": "julia",
   "version": "1.6.0"
  }
 },
 "nbformat": 4,
 "nbformat_minor": 2
}
